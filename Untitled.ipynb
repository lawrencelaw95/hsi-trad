{
 "cells": [
  {
   "cell_type": "code",
   "execution_count": 1,
   "metadata": {},
   "outputs": [
    {
     "name": "stderr",
     "output_type": "stream",
     "text": [
      "Using TensorFlow backend.\n",
      "\n",
      "KeyboardInterrupt\n",
      "\n"
     ]
    }
   ],
   "source": [
    "#Import libraries\n",
    "import numpy as np\n",
    "import pandas as pd\n",
    "import matplotlib.pyplot as plt\n",
    "import itertools\n",
    "import keras"
   ]
  },
  {
   "cell_type": "code",
   "execution_count": null,
   "metadata": {
    "collapsed": true
   },
   "outputs": [],
   "source": [
    "#Import Keras module\n",
    "from keras import optimizers\n",
    "from keras.models import Sequential\n",
    "from keras.layers import Dense, Dropout, Activation, advanced_activations\n",
    "from keras.utils.np_utils import to_categorical\n",
    "from keras.callbacks import ModelCheckpoint, EarlyStopping"
   ]
  },
  {
   "cell_type": "code",
   "execution_count": null,
   "metadata": {},
   "outputs": [],
   "source": [
    "#pretty plots\n",
    "%matplotlib inline\n",
    "\n",
    "#Load the index data\n",
    "raw_data = pd.read_csv('price_only.csv', skiprows=1, parse_dates=['Date']).set_index(['Date'])\n",
    "raw_data.tail()"
   ]
  },
  {
   "cell_type": "code",
   "execution_count": null,
   "metadata": {
    "collapsed": true
   },
   "outputs": [],
   "source": [
    "raw_data['PRED'] = raw_data['RET'].shift(-1)\n",
    "raw_data = raw_data.drop(raw_data.index[-1:])"
   ]
  },
  {
   "cell_type": "code",
   "execution_count": null,
   "metadata": {},
   "outputs": [],
   "source": [
    "raw_data.tail()"
   ]
  },
  {
   "cell_type": "code",
   "execution_count": null,
   "metadata": {},
   "outputs": [],
   "source": [
    "from sklearn.preprocessing import MinMaxScaler\n",
    "scaler = MinMaxScaler(feature_range=(-1,1))\n",
    "scaler = scaler.fit(X)\n",
    "scaler.transform(X)\n"
   ]
  },
  {
   "cell_type": "code",
   "execution_count": null,
   "metadata": {
    "collapsed": true
   },
   "outputs": [],
   "source": [
    "#Split into training set and test set\n",
    "train_size = 0.8 #Again parameter to tune\n",
    "val_size = (1 - train_size) * 0.5\n",
    "\n",
    "train_cut_index = int(np.floor(train_size * X.shape[0]))\n",
    "val_cut_index = int(np.floor((train_size + val_size) * X.shape[0]))\n",
    "\n",
    "X_train = np.array(X.iloc[0:(train_cut_index-1),:])\n",
    "X_val = np.array(X.iloc[train_cut_index:(val_cut_index - 1),:])\n",
    "X_test = np.array(X.iloc[val_cut_index:X.shape[0],:])\n",
    "\n",
    "y_train = y[0:(train_cut_index-1)]\n",
    "y_val = y[train_cut_index:val_cut_index-1]\n",
    "y_test = y[val_cut_index:len(y)]\n",
    "\n",
    "#Preproc the y_train and y_test using to_categorical function\n",
    "#y_train = to_categorical(y_train, num_classes=3)\n",
    "#y_val = to_categorical(y_val, num_classes=3)\n",
    "#y_test = to_categorical(y_test, num_classes=3)"
   ]
  },
  {
   "cell_type": "code",
   "execution_count": null,
   "metadata": {},
   "outputs": [],
   "source": [
    "#Reshape data for inputting into LSTM\n",
    "timestep = 1\n",
    "X_train = np.reshape(X_train, (X_train.shape[0], timestep, X_train.shape[1]))\n",
    "X_val = np.reshape(X_val, (X_val.shape[0], timestep, X_val.shape[1]))\n",
    "X_test = np.reshape(X_test, (X_test.shape[0], timestep, X_test.shape[1]))\n",
    "\n",
    "y_train = np.reshape(y_train, (y_train.shape[0], timestep, 1))\n",
    "y_val = np.reshape(y_val, (y_val.shape[0], timestep, 1))\n",
    "y_test = np.reshape(y_test, (y_test.shape[0], timestep, 1))"
   ]
  },
  {
   "cell_type": "code",
   "execution_count": null,
   "metadata": {
    "collapsed": true
   },
   "outputs": [],
   "source": [
    "def fit_lstm(train, val, batch_size, epoch, perceptrons):\n",
    "    model = Sequential()\n",
    "    model.add(LSTM(neurons, input_shape=train.shape[1:]))\n",
    "    model.add(Dense(1))\n",
    "    model.compile(loss='mean_squared_error', optimizer='adam')\n",
    "    for i in range(epoch):\n",
    "        model.fit(train, val, epochs=1, batch_size=batch_size, verbose=0, shuffle=False)\n",
    "        model.reset_states()\n",
    "    return model"
   ]
  },
  {
   "cell_type": "code",
   "execution_count": null,
   "metadata": {
    "collapsed": true
   },
   "outputs": [],
   "source": [
    "def forecast_lstm(model, batch_size, X):\n",
    "\tX = X.reshape(1, 1, len(X))\n",
    "\tyhat = model.predict(X, batch_size=batch_size)\n",
    "\treturn yhat[0,0]"
   ]
  },
  {
   "cell_type": "code",
   "execution_count": null,
   "metadata": {
    "collapsed": true
   },
   "outputs": [],
   "source": []
  }
 ],
 "metadata": {
  "kernelspec": {
   "display_name": "Python 3",
   "language": "python",
   "name": "python3"
  },
  "language_info": {
   "codemirror_mode": {
    "name": "ipython",
    "version": 3
   },
   "file_extension": ".py",
   "mimetype": "text/x-python",
   "name": "python",
   "nbconvert_exporter": "python",
   "pygments_lexer": "ipython3",
   "version": "3.6.1"
  }
 },
 "nbformat": 4,
 "nbformat_minor": 2
}
