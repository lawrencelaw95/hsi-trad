{
 "cells": [
  {
   "cell_type": "markdown",
   "metadata": {},
   "source": [
    "# Training Autoencoders\n",
    "\n",
    "## Experimenting autoencoders for denoising"
   ]
  },
  {
   "cell_type": "code",
   "execution_count": 1,
   "metadata": {},
   "outputs": [
    {
     "name": "stderr",
     "output_type": "stream",
     "text": [
      "Using TensorFlow backend.\n"
     ]
    }
   ],
   "source": [
    "#Import libraries\n",
    "import numpy as np\n",
    "import pandas as pd\n",
    "import matplotlib.pyplot as plt\n",
    "import itertools\n",
    "import keras"
   ]
  },
  {
   "cell_type": "code",
   "execution_count": 2,
   "metadata": {
    "collapsed": true
   },
   "outputs": [],
   "source": [
    "#Import Keras module\n",
    "from keras import optimizers\n",
    "from keras.models import Sequential\n",
    "from keras.layers import Dense, Dropout, Activation, advanced_activations\n",
    "from keras.utils.np_utils import to_categorical\n",
    "from keras.callbacks import ModelCheckpoint, EarlyStopping"
   ]
  },
  {
   "cell_type": "code",
   "execution_count": 3,
   "metadata": {},
   "outputs": [
    {
     "data": {
      "text/html": [
       "<div>\n",
       "<style>\n",
       "    .dataframe thead tr:only-child th {\n",
       "        text-align: right;\n",
       "    }\n",
       "\n",
       "    .dataframe thead th {\n",
       "        text-align: left;\n",
       "    }\n",
       "\n",
       "    .dataframe tbody tr th {\n",
       "        vertical-align: top;\n",
       "    }\n",
       "</style>\n",
       "<table border=\"1\" class=\"dataframe\">\n",
       "  <thead>\n",
       "    <tr style=\"text-align: right;\">\n",
       "      <th></th>\n",
       "      <th>P</th>\n",
       "      <th>P_L1</th>\n",
       "      <th>P_L2</th>\n",
       "      <th>P_L3</th>\n",
       "      <th>P_L4</th>\n",
       "      <th>P_L5</th>\n",
       "      <th>P_L6</th>\n",
       "      <th>P_L7</th>\n",
       "      <th>P_L8</th>\n",
       "      <th>P_L9</th>\n",
       "      <th>...</th>\n",
       "      <th>P_L11</th>\n",
       "      <th>P_L12</th>\n",
       "      <th>P_L13</th>\n",
       "      <th>P_L14</th>\n",
       "      <th>P_L15</th>\n",
       "      <th>P_L16</th>\n",
       "      <th>P_L17</th>\n",
       "      <th>P_L18</th>\n",
       "      <th>P_L19</th>\n",
       "      <th>P_L20</th>\n",
       "    </tr>\n",
       "    <tr>\n",
       "      <th>Date</th>\n",
       "      <th></th>\n",
       "      <th></th>\n",
       "      <th></th>\n",
       "      <th></th>\n",
       "      <th></th>\n",
       "      <th></th>\n",
       "      <th></th>\n",
       "      <th></th>\n",
       "      <th></th>\n",
       "      <th></th>\n",
       "      <th></th>\n",
       "      <th></th>\n",
       "      <th></th>\n",
       "      <th></th>\n",
       "      <th></th>\n",
       "      <th></th>\n",
       "      <th></th>\n",
       "      <th></th>\n",
       "      <th></th>\n",
       "      <th></th>\n",
       "      <th></th>\n",
       "    </tr>\n",
       "  </thead>\n",
       "  <tbody>\n",
       "    <tr>\n",
       "      <th>2017-09-21</th>\n",
       "      <td>29.00</td>\n",
       "      <td>29.00</td>\n",
       "      <td>28.95</td>\n",
       "      <td>29.00</td>\n",
       "      <td>28.70</td>\n",
       "      <td>28.70</td>\n",
       "      <td>28.75</td>\n",
       "      <td>28.85</td>\n",
       "      <td>28.85</td>\n",
       "      <td>28.55</td>\n",
       "      <td>...</td>\n",
       "      <td>28.45</td>\n",
       "      <td>28.60</td>\n",
       "      <td>28.60</td>\n",
       "      <td>28.75</td>\n",
       "      <td>28.75</td>\n",
       "      <td>28.85</td>\n",
       "      <td>28.50</td>\n",
       "      <td>28.65</td>\n",
       "      <td>28.55</td>\n",
       "      <td>28.20</td>\n",
       "    </tr>\n",
       "    <tr>\n",
       "      <th>2017-09-22</th>\n",
       "      <td>28.75</td>\n",
       "      <td>29.00</td>\n",
       "      <td>29.00</td>\n",
       "      <td>28.95</td>\n",
       "      <td>29.00</td>\n",
       "      <td>28.70</td>\n",
       "      <td>28.70</td>\n",
       "      <td>28.75</td>\n",
       "      <td>28.85</td>\n",
       "      <td>28.85</td>\n",
       "      <td>...</td>\n",
       "      <td>28.40</td>\n",
       "      <td>28.45</td>\n",
       "      <td>28.60</td>\n",
       "      <td>28.60</td>\n",
       "      <td>28.75</td>\n",
       "      <td>28.75</td>\n",
       "      <td>28.85</td>\n",
       "      <td>28.50</td>\n",
       "      <td>28.65</td>\n",
       "      <td>28.55</td>\n",
       "    </tr>\n",
       "    <tr>\n",
       "      <th>2017-09-25</th>\n",
       "      <td>28.45</td>\n",
       "      <td>28.75</td>\n",
       "      <td>29.00</td>\n",
       "      <td>29.00</td>\n",
       "      <td>28.95</td>\n",
       "      <td>29.00</td>\n",
       "      <td>28.70</td>\n",
       "      <td>28.70</td>\n",
       "      <td>28.75</td>\n",
       "      <td>28.85</td>\n",
       "      <td>...</td>\n",
       "      <td>28.55</td>\n",
       "      <td>28.40</td>\n",
       "      <td>28.45</td>\n",
       "      <td>28.60</td>\n",
       "      <td>28.60</td>\n",
       "      <td>28.75</td>\n",
       "      <td>28.75</td>\n",
       "      <td>28.85</td>\n",
       "      <td>28.50</td>\n",
       "      <td>28.65</td>\n",
       "    </tr>\n",
       "    <tr>\n",
       "      <th>2017-09-26</th>\n",
       "      <td>28.50</td>\n",
       "      <td>28.45</td>\n",
       "      <td>28.75</td>\n",
       "      <td>29.00</td>\n",
       "      <td>29.00</td>\n",
       "      <td>28.95</td>\n",
       "      <td>29.00</td>\n",
       "      <td>28.70</td>\n",
       "      <td>28.70</td>\n",
       "      <td>28.75</td>\n",
       "      <td>...</td>\n",
       "      <td>28.85</td>\n",
       "      <td>28.55</td>\n",
       "      <td>28.40</td>\n",
       "      <td>28.45</td>\n",
       "      <td>28.60</td>\n",
       "      <td>28.60</td>\n",
       "      <td>28.75</td>\n",
       "      <td>28.75</td>\n",
       "      <td>28.85</td>\n",
       "      <td>28.50</td>\n",
       "    </tr>\n",
       "    <tr>\n",
       "      <th>2017-09-27</th>\n",
       "      <td>28.60</td>\n",
       "      <td>28.50</td>\n",
       "      <td>28.45</td>\n",
       "      <td>28.75</td>\n",
       "      <td>29.00</td>\n",
       "      <td>29.00</td>\n",
       "      <td>28.95</td>\n",
       "      <td>29.00</td>\n",
       "      <td>28.70</td>\n",
       "      <td>28.70</td>\n",
       "      <td>...</td>\n",
       "      <td>28.85</td>\n",
       "      <td>28.85</td>\n",
       "      <td>28.55</td>\n",
       "      <td>28.40</td>\n",
       "      <td>28.45</td>\n",
       "      <td>28.60</td>\n",
       "      <td>28.60</td>\n",
       "      <td>28.75</td>\n",
       "      <td>28.75</td>\n",
       "      <td>28.85</td>\n",
       "    </tr>\n",
       "  </tbody>\n",
       "</table>\n",
       "<p>5 rows × 21 columns</p>\n",
       "</div>"
      ],
      "text/plain": [
       "                P   P_L1   P_L2   P_L3   P_L4   P_L5   P_L6   P_L7   P_L8  \\\n",
       "Date                                                                        \n",
       "2017-09-21  29.00  29.00  28.95  29.00  28.70  28.70  28.75  28.85  28.85   \n",
       "2017-09-22  28.75  29.00  29.00  28.95  29.00  28.70  28.70  28.75  28.85   \n",
       "2017-09-25  28.45  28.75  29.00  29.00  28.95  29.00  28.70  28.70  28.75   \n",
       "2017-09-26  28.50  28.45  28.75  29.00  29.00  28.95  29.00  28.70  28.70   \n",
       "2017-09-27  28.60  28.50  28.45  28.75  29.00  29.00  28.95  29.00  28.70   \n",
       "\n",
       "             P_L9  ...    P_L11  P_L12  P_L13  P_L14  P_L15  P_L16  P_L17  \\\n",
       "Date               ...                                                      \n",
       "2017-09-21  28.55  ...    28.45  28.60  28.60  28.75  28.75  28.85  28.50   \n",
       "2017-09-22  28.85  ...    28.40  28.45  28.60  28.60  28.75  28.75  28.85   \n",
       "2017-09-25  28.85  ...    28.55  28.40  28.45  28.60  28.60  28.75  28.75   \n",
       "2017-09-26  28.75  ...    28.85  28.55  28.40  28.45  28.60  28.60  28.75   \n",
       "2017-09-27  28.70  ...    28.85  28.85  28.55  28.40  28.45  28.60  28.60   \n",
       "\n",
       "            P_L18  P_L19  P_L20  \n",
       "Date                             \n",
       "2017-09-21  28.65  28.55  28.20  \n",
       "2017-09-22  28.50  28.65  28.55  \n",
       "2017-09-25  28.85  28.50  28.65  \n",
       "2017-09-26  28.75  28.85  28.50  \n",
       "2017-09-27  28.75  28.75  28.85  \n",
       "\n",
       "[5 rows x 21 columns]"
      ]
     },
     "execution_count": 3,
     "metadata": {},
     "output_type": "execute_result"
    }
   ],
   "source": [
    "#pretty plots\n",
    "%matplotlib inline\n",
    "\n",
    "#Load the index data\n",
    "raw_data = pd.read_csv('price_only.csv', skiprows=1, parse_dates=['Date']).set_index(['Date'])\n",
    "raw_data.tail()"
   ]
  },
  {
   "cell_type": "code",
   "execution_count": 4,
   "metadata": {
    "collapsed": true
   },
   "outputs": [],
   "source": [
    "#Data and Labels split\n",
    "y = raw_data['P']\n",
    "X = raw_data"
   ]
  },
  {
   "cell_type": "code",
   "execution_count": 7,
   "metadata": {
    "collapsed": true
   },
   "outputs": [],
   "source": [
    "#Training, Validation, test split\n",
    "train_size = 0.9\n",
    "timestep = 5"
   ]
  },
  {
   "cell_type": "code",
   "execution_count": 9,
   "metadata": {},
   "outputs": [
    {
     "name": "stdout",
     "output_type": "stream",
     "text": [
      "2235\n"
     ]
    }
   ],
   "source": [
    "#Calcualte cutoff\n",
    "train_cut_index = int(train_size * X.shape[0] - train_size * X.shape[0] % timestep)\n",
    "print(train_cut_index)\n"
   ]
  },
  {
   "cell_type": "code",
   "execution_count": 10,
   "metadata": {
    "collapsed": true
   },
   "outputs": [],
   "source": [
    "#Split train, validation\n",
    "X_train, X_val = X.iloc[0:train_cut_index,:], X.iloc[train_cut_index:,:]\n",
    "y_train, y_val = y[0:train_cut_index], y[train_cut_index:]"
   ]
  },
  {
   "cell_type": "code",
   "execution_count": null,
   "metadata": {
    "collapsed": true
   },
   "outputs": [],
   "source": []
  }
 ],
 "metadata": {
  "kernelspec": {
   "display_name": "Python 3",
   "language": "python",
   "name": "python3"
  },
  "language_info": {
   "codemirror_mode": {
    "name": "ipython",
    "version": 3
   },
   "file_extension": ".py",
   "mimetype": "text/x-python",
   "name": "python",
   "nbconvert_exporter": "python",
   "pygments_lexer": "ipython3",
   "version": "3.6.1"
  }
 },
 "nbformat": 4,
 "nbformat_minor": 2
}
